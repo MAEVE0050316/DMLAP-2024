{
 "cells": [
  {
   "cell_type": "markdown",
   "metadata": {},
   "source": [
    "\n",
    "List\n",
    "--------"
   ]
  },
  {
   "cell_type": "code",
   "execution_count": null,
   "metadata": {},
   "outputs": [],
   "source": [
    "myList[2]\n",
    "myList[-1]\n",
    "#python允许负index，最后一个元素从-1算起，在这个list里，10-index-1；6-index-2\n",
    "#而同样的效果在javascript中必须用myList[myList.length-1]\n",
    "myList[len(myList)-1] == myList[-1]\n",
    "#lenghth的样子也跟js不太一样"
   ]
  },
  {
   "cell_type": "code",
   "execution_count": null,
   "metadata": {},
   "outputs": [],
   "source": [
    "num_elements = len(myList)\n",
    "print(num_elements)\n",
    "name = \"hello\"\n",
    "print(len(name)) # This give us the length of the string\n",
    "'''len('hello')- print(len('hello')) 结果也是5，\n",
    "这是将字符串'hello'直接传递给len()函数。没有变量赋值；————适合一次性\n",
    "\n",
    "该函数直接计算提供的字符串文字的长度。name = \"hello\"\n",
    "print(len(name))- 在这里，字符串'hello'首先被分配给名为 的变量name。\n",
    "然后，该len()函数将作为其参数被调用name。\n",
    "这种方法涉及在计算字符串长度之前将字符串存储在变量中的额外步骤。————适合多个值和多次调用'''"
   ]
  },
  {
   "cell_type": "markdown",
   "metadata": {},
   "source": [
    "start：从哪里开始切片。如果在第一个冒号 ( :) 之前省略，则对于正步骤，它默认位于列表的开头；对于负步骤，它默认位于列表的末尾。\n",
    "stop：切片在哪里结束（不包含）。如果在第一个冒号之后和第二个冒号之前（如果存在）被省略，则对于正步骤，它默认位于列表的末尾；对于负步骤，它默认位于列表的开头。\n",
    "step：每次跳过多少项。正数 n 表示“切片时向前移动 n 个位置”，负数表示“向后移动”。\n",
    "当您使用 时[::-1]，它会转换为：\n",
    "\n",
    "start隐含地是列表的末尾（由于负步骤，Python 默认从末尾开始）。\n",
    "stop隐含地是列表的开始（同样，因为负步骤意味着在列表中向后移动）。\n",
    "stepis -1，这意味着“以相反的顺序获取每个元素”。\n",
    "所以，[::-1]并不意味着“从索引 0 开始和结束”。相反，它的意思是“从末尾开始，从开头停止，一次向后遍历列表一个元素”。这有效地颠倒了列表。\n",
    "\n",
    "以下是它如何与您的列表配合使用L = ['a', 'b', 'c', 'd', 'e']：\n",
    "\n",
    "如果没有明确的开始和停止，切片会从末尾 ( 'e') 开始，并向后移动（因为-1）遍历每个元素，直到到达列表的开头。\n",
    "结果是['e', 'd', 'c', 'b', 'a']，相反L。"
   ]
  },
  {
   "cell_type": "code",
   "execution_count": null,
   "metadata": {},
   "outputs": [],
   "source": [
    "L = ['a', 'b', 'c', 'd', 'e']\n",
    "print(L[::-1])"
   ]
  },
  {
   "cell_type": "markdown",
   "metadata": {},
   "source": [
    "Python 中的 For 循环\n",
    "在 Python 中，for 循环用于迭代序列（如列表、元组或字符串）或其他可迭代对象。基本语法是：\n",
    "for variable in sequence:\n",
    "    # do something with variable\n",
    "variable是循环迭代时序列中每个项目的占位符。\n",
    "sequence是您要迭代的集合。\n",
    "e.g.for letter in 'hello':\n",
    "    print(letter)\n",
    "该循环打印字符串中的每个字符'hello'。\n",
    "\n",
    "-------------------------\n",
    "JavaScript 中的 For 循环\n",
    "在 JavaScript 中，传统的 for 循环具有不同的语法，涉及初始化、条件和增量表达式：\n",
    "for (let i = 0; i < something.length; i++) {\n",
    "    // do something with something[i]\n",
    "}\n",
    "然而，JavaScript 也有for...of循环，在可读性和目的方面更接近于 Python 的 for 循环：\n",
    "for (const item of array) {\n",
    "    // do something with item\n",
    "}\n",
    "\n",
    "--------------------------\n",
    "Python 中的列表推导式\n",
    "Python 中的列表推导式提供了一种创建列表的简洁方法。它将 for 循环和列表创建合并到一行代码中。语法是：\n",
    "[new_item for variable in iterable]\n",
    "new_item是定义如何从变量派生新列表中的每个项目的表达式。\n",
    "variable是原始项目iterable（如列表）中每个项目的占位符。\n",
    "e.g.squares = [x**2 for x in range(5)]\n",
    "这将创建一个由数字 0 到 4 组成的方块列表。\n"
   ]
  },
  {
   "cell_type": "code",
   "execution_count": null,
   "metadata": {},
   "outputs": [],
   "source": [
    "#c = [for string in myList]\n",
    "#print (c) -------wrong\n",
    "'''xx = [expression for string in myList]\n",
    "expressionxx：您可以在此处定义新列表中每个元素的内容。\n",
    "可以expression像变量string本身一样简单\n",
    "（如果您只想将元素复制到myList）xx，也可以涉及操作string\n",
    "（例如，修改字符串、基于它计算某些内容等）。\n",
    "\n",
    "这种方法使您可以灵活地轻松创建从现有列表或其他可迭代对象派生的新列表，\n",
    "其中每个元素都是基于原始可迭代对象元素的转换、选择或计算。'''\n",
    "\n",
    "for string in myList:\n",
    "    print(string)\n",
    "'''只需迭代myList并执行print(string)每个stringin的语句myList。\n",
    "不需要显式定义元素的类型，因为您没有创建新列表；\n",
    "您只是对每个元素执行操作（在本例中为打印）。'''"
   ]
  },
  {
   "cell_type": "markdown",
   "metadata": {},
   "source": [
    "Tuple\n",
    "-----"
   ]
  },
  {
   "cell_type": "markdown",
   "metadata": {},
   "source": [
    "在每次迭代中，Python 从列表中解压一个元组并将值分配给a和b。\n",
    "然后，它计算a和b并打印结果。\n",
    "迭代细分\n",
    "第一次迭代：第一个元组是(2, 4)。\n",
    "\n",
    "a被赋值为2。\n",
    "b被赋值为4。\n",
    "a和的和b是2 + 4 = 6，所以6被打印。\n",
    "第二次迭代：第二个元组是(2, 5)。\n",
    "\n",
    "a被再次赋值2。\n",
    "b被赋值为5。\n",
    "a和的和b是2 + 5 = 7，所以7被打印。"
   ]
  },
  {
   "cell_type": "code",
   "execution_count": null,
   "metadata": {},
   "outputs": [],
   "source": [
    "for a, b in [(2, 4), (2, 5)]:\n",
    "    print(a + b)"
   ]
  },
  {
   "cell_type": "markdown",
   "metadata": {},
   "source": [
    "发生的情况如下：\n",
    "\n",
    "type(a)返回<class 'float'>，这是真的。\n",
    "type(b)返回<class 'int'>，这也是事实。\n",
    "该and运算符返回第二个操作数 ( ) 的值type(b)，因为两个操作数在布尔上下文中均为 true。\n",
    "这就是为什么你看到<class 'int'>的是输出。b这并不是说 Python 只是识别或显示;的类型。这就是and操作员在这种情况下的工作方式。"
   ]
  },
  {
   "cell_type": "markdown",
   "metadata": {},
   "source": [
    "Numpy and Matplotlib\n",
    "===================="
   ]
  },
  {
   "cell_type": "markdown",
   "metadata": {},
   "source": [
    "Differences Between Python Lists and NumPy Arrays\n",
    "\n",
    "Python Lists:\n",
    "Can contain elements of different types.\n",
    "Do not support vectorized operations (e.g., you can't add two lists element-wise without a loop or comprehension).\n",
    "Come with a variety of built-in methods for general-purpose programming.\n",
    "\n",
    "NumPy Arrays:\n",
    "Must contain elements of the same type, making them more efficient for numerical computations.\n",
    "Support vectorized operations, allowing for efficient element-wise operations without explicit loops.\n",
    "Designed specifically for numerical and matrix operations, including linear algebra, statistical operations, and more.\n",
    "\n",
    "----------------------------\n",
    "\n",
    "When to Use:\n",
    "\n",
    "Use Python lists for general-purpose tasks, especially when dealing with a collection of items of different types or when you don't need the mathematical capabilities provided by NumPy.\n",
    "Use NumPy arrays when performing numerical computations, especially if you're working with large datasets or need to perform complex mathematical operations efficiently."
   ]
  },
  {
   "cell_type": "code",
   "execution_count": null,
   "metadata": {},
   "outputs": [],
   "source": [
    "import numpy as np"
   ]
  },
  {
   "cell_type": "code",
   "execution_count": null,
   "metadata": {},
   "outputs": [],
   "source": [
    "x = np.array([0, 1, 2, 3])\n",
    "print(x)\n"
   ]
  },
  {
   "cell_type": "code",
   "execution_count": null,
   "metadata": {},
   "outputs": [],
   "source": [
    "print(len(x)) # Query its length\n",
    "print(x[1:-1]) # Slice it"
   ]
  },
  {
   "cell_type": "markdown",
   "metadata": {},
   "source": [
    "Direct Functions for Specific Values:\n",
    "np.zeros(shape): Creates an array filled with zeros. shape specifies the array's shape.\n",
    "np.ones(shape): Creates an array filled with ones. shape specifies the array's shape.\n",
    "For Other Values: Use np.full\n",
    "For any other value that you want to fill an array with, you use np.full(shape, fill_value):\n",
    "\n",
    "shape: The desired shape of the array.\n",
    "fill_value: The value to fill the array with."
   ]
  },
  {
   "cell_type": "code",
   "execution_count": null,
   "metadata": {},
   "outputs": [],
   "source": [
    "y = np.ones((3,7))\n",
    "# d= np.elevens((3,3)) cannot\\\n",
    "d = np.full((3,3),11)\n",
    "\n",
    "print(y)\n",
    "print(d)"
   ]
  },
  {
   "cell_type": "code",
   "execution_count": null,
   "metadata": {},
   "outputs": [],
   "source": [
    "my_3d_array = np.array([\n",
    "                        [[1, 2, 3, 4], [5, 6, 7, 8], [9, 10, 11, 12]],  # First layer\n",
    "                        [[13, 14, 15, 16], [17, 18, 19, 20], [21, 22, 23, 24]]  # Second layer\n",
    "                       ])\n",
    "\n",
    "print(my_3d_array)"
   ]
  },
  {
   "cell_type": "code",
   "execution_count": null,
   "metadata": {},
   "outputs": [],
   "source": [
    "print(len(x))"
   ]
  },
  {
   "cell_type": "markdown",
   "metadata": {},
   "source": [
    "Single Dimensional Array\n",
    "np.ones(4): Creates a 1D array with 4 elements, all set to 1. Here, the number 4 is a simple integer argument, indicating the length of the array. No additional parentheses are needed because you're not passing a tuple; you're just passing a single integer value.\n",
    "_______________________\n",
    "Multi-Dimensional Array\n",
    "np.ones((3, 4)): Creates a 2D array with 3 rows and 4 columns, all set to 1. In this case, (3, 4) is a tuple that describes the shape of the array. The tuple needs to be enclosed in parentheses to differentiate it from multiple function arguments and to make it clear that the shape parameter is a single entity representing the dimensions of the array.\n",
    "_______\n",
    "Summary\n",
    "The difference in syntax (np.ones(4) vs. np.ones((3, 4))) is due to the need to distinguish between a single-dimensional array, where a single integer suffices to describe its shape, and a multi-dimensional array, where a tuple is necessary to specify the dimensions. In Python, tuples are enclosed in parentheses, which is why multi-dimensional shapes in functions like np.ones require an additional set of parentheses."
   ]
  },
  {
   "cell_type": "code",
   "execution_count": null,
   "metadata": {},
   "outputs": [],
   "source": [
    "x = np.ones((3,4))\n",
    "# np.ones(3,4)- wrong\n",
    "''''''\n",
    "print(x)\n",
    "rows, cols = x.shape\n",
    "\n",
    "c = np.ones(4)\n",
    "print(c)\n"
   ]
  },
  {
   "cell_type": "code",
   "execution_count": null,
   "metadata": {},
   "outputs": [],
   "source": [
    "rows = x.shape[0]\n",
    "cols = x.shape[1]\n",
    "print(rows) \n",
    "print(cols)"
   ]
  },
  {
   "cell_type": "code",
   "execution_count": null,
   "metadata": {},
   "outputs": [],
   "source": [
    "y = np.ones(10)\n",
    "y"
   ]
  },
  {
   "cell_type": "code",
   "execution_count": null,
   "metadata": {},
   "outputs": [],
   "source": [
    "np.linspace(-1, 1, 9)"
   ]
  },
  {
   "cell_type": "code",
   "execution_count": null,
   "metadata": {},
   "outputs": [],
   "source": [
    "linear_space = np.linspace(1, 10, num=5)\n",
    "print(linear_space)"
   ]
  },
  {
   "cell_type": "code",
   "execution_count": null,
   "metadata": {},
   "outputs": [],
   "source": [
    "txt = ''\n",
    "for t in np.linspace(-1, 1, 9):\n",
    "    txt += str(t+10) + ' '\n",
    "print(txt)"
   ]
  },
  {
   "cell_type": "code",
   "execution_count": null,
   "metadata": {},
   "outputs": [],
   "source": [
    "np.random.uniform(-100, 100)"
   ]
  },
  {
   "cell_type": "code",
   "execution_count": null,
   "metadata": {},
   "outputs": [],
   "source": [
    "np.random.uniform(-10, 10, (5, 2))"
   ]
  },
  {
   "cell_type": "code",
   "execution_count": null,
   "metadata": {},
   "outputs": [],
   "source": [
    "np.random.uniform(-1, 1, 10)"
   ]
  },
  {
   "cell_type": "code",
   "execution_count": null,
   "metadata": {},
   "outputs": [],
   "source": [
    "np.random.seed(100)\n",
    "print(np.random.uniform(-1, 1, 3))\n",
    "print(np.random.uniform(-1, 1, 5))"
   ]
  },
  {
   "cell_type": "code",
   "execution_count": null,
   "metadata": {},
   "outputs": [],
   "source": [
    "x[:3]"
   ]
  },
  {
   "cell_type": "markdown",
   "metadata": {},
   "source": [
    "\n",
    "Both x[0][2] and x[0,2] access the element at row 0, column 2 of the array x. However, the way they access this element is slightly different due to the indexing method used:\n",
    "\n",
    "x[0][2]: This uses two steps of indexing. First, x[0] accesses the first row of the array (which returns a 1D array representing that row), and then [2] accesses the third element of that row. This is essentially chaining the indexing operations.\n",
    "\n",
    "x[0,2]: This uses a single step of multidimensional indexing, directly accessing the element at row 0, column 2. It's a more concise and preferred way to index multidimensional arrays in NumPy.\n",
    "\n",
    "Outcome\n",
    "Both methods yield the same result for a 2D array like x in your example, which is the value at the specified position. The difference is more about syntax and efficiency:\n",
    "\n",
    "The single-step multidimensional indexing (x[0,2]) is generally more efficient and is the idiomatic way to index elements in NumPy arrays because it's more direct and clearer, especially for arrays with more than two dimensions.\n",
    "\n",
    "The two-step indexing (x[0][2]) might be more familiar to programmers coming from certain other languages or contexts where multidimensional data structures are accessed in a nested manner. However, it's less efficient and can be more cumbersome with higher-dimensional arrays."
   ]
  },
  {
   "cell_type": "code",
   "execution_count": null,
   "metadata": {},
   "outputs": [],
   "source": [
    "x = np.ones((6,7))\n",
    "print(x)\n",
    "print(x[2])\n",
    "x[0][2]\n"
   ]
  },
  {
   "cell_type": "code",
   "execution_count": null,
   "metadata": {},
   "outputs": [],
   "source": [
    "x[0,2]"
   ]
  },
  {
   "cell_type": "code",
   "execution_count": null,
   "metadata": {},
   "outputs": [],
   "source": [
    "x[0][2]"
   ]
  },
  {
   "cell_type": "markdown",
   "metadata": {},
   "source": [
    "x = np.ones((6,7))"
   ]
  },
  {
   "cell_type": "code",
   "execution_count": null,
   "metadata": {},
   "outputs": [],
   "source": [
    "x = np.ones((10,10))\n",
    "x[0:3,-3:]\n",
    "print(x[0:3,-3:]*2+100)"
   ]
  },
  {
   "cell_type": "code",
   "execution_count": null,
   "metadata": {},
   "outputs": [],
   "source": [
    "!pip install Pillow"
   ]
  },
  {
   "cell_type": "code",
   "execution_count": null,
   "metadata": {},
   "outputs": [],
   "source": [
    "from PIL import Image\n",
    "import matplotlib.pyplot as plt\n",
    "img = np.array(Image.open('images/spock.jpg'))\n",
    "plt.imshow(img)"
   ]
  },
  {
   "cell_type": "code",
   "execution_count": null,
   "metadata": {},
   "outputs": [],
   "source": [
    "img.shape"
   ]
  },
  {
   "cell_type": "code",
   "execution_count": null,
   "metadata": {},
   "outputs": [],
   "source": [
    "plt.imshow(img[100:140, 30:240, :])"
   ]
  },
  {
   "cell_type": "markdown",
   "metadata": {},
   "source": [
    "Red Channel Only"
   ]
  },
  {
   "cell_type": "code",
   "execution_count": null,
   "metadata": {},
   "outputs": [],
   "source": [
    "plt.imshow(img[100:140, 30:240, 0])"
   ]
  },
  {
   "cell_type": "code",
   "execution_count": null,
   "metadata": {},
   "outputs": [],
   "source": [
    "plt.imshow(img[100:140, 30:240, 1])"
   ]
  },
  {
   "cell_type": "code",
   "execution_count": null,
   "metadata": {},
   "outputs": [],
   "source": [
    "plt.imshow(img[100:140, 30:240, 2])"
   ]
  },
  {
   "cell_type": "code",
   "execution_count": null,
   "metadata": {},
   "outputs": [],
   "source": [
    "plt.imshow(img[::-1, ::-1, 2])"
   ]
  },
  {
   "cell_type": "markdown",
   "metadata": {},
   "source": [
    "array[start_row:end_row:step_row, start_col:end_col:step_col, channel_slice]"
   ]
  },
  {
   "cell_type": "markdown",
   "metadata": {},
   "source": [
    "Understanding img[::-1, ::-1, ::-1]\n",
    "This expression applies to a 3D NumPy array img, which is common for representing color images. The array dimensions are typically height (rows), width (columns), and channels (color depths). The slicing [::-1, ::-1, ::-1] is applied across all three dimensions:\n",
    "\n",
    "[::-1] for the first dimension (height/rows): This reverses the order of the rows in the image. If the image is considered as a stack of rows from top to bottom, this operation flips the image vertically (top becomes bottom and vice versa).\n",
    "\n",
    "[::-1] for the second dimension (width/columns): Similarly, this reverses the order of the columns in the image, flipping the image horizontally (left side becomes right side and vice versa).\n",
    "\n",
    "[::-1] for the third dimension (channels/color depths): This reverses the order of the channels. For an RGB image, this operation would switch the channels from RGB to BGR (assuming the original order was RGB)."
   ]
  },
  {
   "cell_type": "code",
   "execution_count": null,
   "metadata": {},
   "outputs": [],
   "source": [
    "plt.imshow(img[::-1, ::-1, ::-1])"
   ]
  },
  {
   "cell_type": "code",
   "execution_count": null,
   "metadata": {},
   "outputs": [],
   "source": [
    "plt.imshow(img[:, :, ::-1])"
   ]
  },
  {
   "cell_type": "markdown",
   "metadata": {},
   "source": [
    "Append vs. Concatenate\n",
    "\n",
    "Append:\n",
    "\n",
    "In the context of Python lists, append() adds a single element to the end of a list. It modifies the list in place and doesn't return a new list.\n",
    "Example: my_list.append(1)\n",
    "\n",
    "Concatenate:\n",
    "\n",
    "In NumPy, np.concatenate() combines two or more arrays into a single array. It does not modify the original arrays but returns a new array that is the combination of the input arrays.\n",
    "Example: np.concatenate([array1, array2])\n",
    "\n",
    "Why Both Exist\n",
    "\n",
    "Design Philosophy: Python lists are designed to be general-purpose containers, so append() is a natural fit for many list operations, allowing dynamic resizing. NumPy, however, prioritizes numerical computations and efficiency. Arrays have a fixed size for memory efficiency and fast computation, which is why appending isn't a simple operation for NumPy arrays. Instead, concatenation is offered as a way to combine arrays, which aligns with NumPy's use cases and performance goals.\n",
    "\n",
    "Performance Considerations: Appending to a list is relatively inexpensive in terms of performance. However, for NumPy arrays, appending would require creating a new array and copying over the data (since arrays have fixed size), which is less efficient, especially in a loop. np.concatenate() is more efficient for combining multiple arrays at once.\n",
    "\n",
    "Can np.concatenate Be Used on Types Other Than NumPy Arrays?\n",
    "Yes, np.concatenate() can accept lists and tuples as inputs, converting them into arrays during the concatenation process. However, the output will always be a NumPy array.\n",
    "\n",
    "When to Use Each\n",
    "\n",
    "Use append() with lists when you need to add elements one at a time and prefer to modify the list in place.\n",
    "\n",
    "Use np.concatenate() when working with NumPy arrays and you need to combine multiple arrays into one. It's especially useful when you know all the arrays you want to combine ahead of time.\n",
    "\n",
    "For dynamically growing arrays in NumPy, consider using lists (with append()) during the data collection phase and then converting the list to a NumPy array with np.array() for further processing. This approach takes advantage of the flexibility of lists and the computational efficiency of NumPy arrays."
   ]
  },
  {
   "cell_type": "code",
   "execution_count": null,
   "metadata": {},
   "outputs": [],
   "source": [
    "y = np.zeros(3)\n",
    "print(y)\n",
    "y = np.concatenate([y, [1.0]])\n",
    "print(y)\n",
    "#a = np.concatenate((1,2,3)[3,4,5])\n",
    "#print(a)\n",
    "#cannot do this adding directly\n",
    "\n",
    "a = np.concatenate((np.array((1, 2, 3)), np.array([3, 4, 5])))\n",
    "print(a)\n",
    "#np.array((1, 2, 3)) converts the tuple (1, 2, 3) into a NumPy array.\n",
    "#np.array([3, 4, 5]) converts the list [3, 4, 5] into a NumPy array.\n",
    "#np.concatenate((..., ...)) concatenates the two arrays. The arrays to be concatenated are passed as a tuple to np.concatenate."
   ]
  },
  {
   "cell_type": "markdown",
   "metadata": {},
   "source": [
    "np.concatenate Usage: () vs. []\n",
    "In np.concatenate, both parentheses () and square brackets [] are used because the function requires a single argument that is a sequence (typically a tuple or list) of arrays to concatenate. The choice between using a tuple () or a list [] for this sequence is mostly a matter of syntax and preference, as both will work:\n",
    "\n",
    "Using parentheses for a tuple: np.concatenate((array1, array2))\n",
    "Using square brackets for a list: np.concatenate([array1, array2])\n",
    "Both lines do the same thing: they concatenate array1 and array2. The difference in syntax (() for a tuple and [] for a list) doesn't affect the outcome of np.concatenate because it simply iterates over the provided sequence, regardless of whether that sequence is a tuple or a list."
   ]
  },
  {
   "cell_type": "code",
   "execution_count": null,
   "metadata": {},
   "outputs": [],
   "source": [
    "np.concatenate([np.zeros(2), np.ones(2), np.zeros(2)])#list\n",
    "np.concatenate((np.zeros(2), np.ones(2), np.zeros(2)))#tuple"
   ]
  },
  {
   "cell_type": "code",
   "execution_count": null,
   "metadata": {},
   "outputs": [],
   "source": [
    "print(np.ones((2,3)))\n",
    "print(np.vstack([np.ones(3), np.ones((2, 3))]))\n",
    "print(np.array([[3,4,2], [100,6,5]]))\n",
    "print(np.vstack([np.ones(3), np.array([[3,4,2], [100,6,5]])]))"
   ]
  },
  {
   "cell_type": "markdown",
   "metadata": {},
   "source": [
    "The reason np.hstack([np.ones(3), np.array([[3,4,2], [100,6,5]])]) doesn't work as expected is due to a mismatch in dimensions between the arrays you're trying to horizontally stack:\n",
    "\n",
    "np.ones(3) creates a 1D array with shape (3,).\n",
    "np.array([[3,4,2], [100,6,5]]) creates a 2D array with shape (2, 3).\n",
    "np.hstack is used for horizontal stacking, which means it aligns the arrays side by side. For this to work, the arrays must have the same number of rows. However, a 1D array does not explicitly have a \"row\" dimension, so NumPy treats it as having 1 row, which does not match the 2 rows of the 2D array. This leads to a dimension mismatch that np.hstack cannot resolve."
   ]
  },
  {
   "cell_type": "code",
   "execution_count": null,
   "metadata": {},
   "outputs": [],
   "source": [
    "#print(np.hstack([np.ones(3), np.array([[3,4,2], [100,6,5]])]))\n",
    "print(np.array([[3,4,2], [100,6,5]]))\n",
    "print(np.zeros((2,3)))\n",
    "print(np.hstack([np.zeros((2,3)), np.array([[3,4,2], [100,6,5]])]))"
   ]
  },
  {
   "cell_type": "code",
   "execution_count": null,
   "metadata": {},
   "outputs": [],
   "source": [
    "A = np.hstack([[np.ones(2)], [np.zeros(2,2)]])"
   ]
  },
  {
   "cell_type": "code",
   "execution_count": null,
   "metadata": {},
   "outputs": [],
   "source": [
    "#A = np.hstack([[np.ones(2)], [np.zeros(2,2)]])\n",
    "ones = np.ones((2, 1))\n",
    "zeros = np.zeros((2, 2))\n",
    "A = np.hstack([ones, zeros])\n",
    "A"
   ]
  },
  {
   "cell_type": "code",
   "execution_count": null,
   "metadata": {},
   "outputs": [],
   "source": [
    "np.hstack([A, np.array([2, 3]).reshape(-1,1)])"
   ]
  },
  {
   "cell_type": "code",
   "execution_count": null,
   "metadata": {},
   "outputs": [],
   "source": [
    "B = np.vstack([np.linspace(0, 4, 5),\n",
    "               np.linspace(1, 5, 5)])\n",
    "B"
   ]
  },
  {
   "cell_type": "code",
   "execution_count": null,
   "metadata": {},
   "outputs": [],
   "source": [
    "B.T"
   ]
  },
  {
   "cell_type": "code",
   "execution_count": null,
   "metadata": {},
   "outputs": [],
   "source": [
    "np.vstack([A.T, [2, 3]]).T"
   ]
  },
  {
   "cell_type": "code",
   "execution_count": null,
   "metadata": {},
   "outputs": [],
   "source": [
    "img = np.zeros((600, 800, 3))\n",
    "print(img.shape)"
   ]
  },
  {
   "cell_type": "code",
   "execution_count": null,
   "metadata": {},
   "outputs": [],
   "source": [
    "img2 = img.reshape((1, 600, 800, 3))\n",
    "print(img2.shape)"
   ]
  },
  {
   "cell_type": "code",
   "execution_count": null,
   "metadata": {},
   "outputs": [],
   "source": [
    "img2 = np.expand_dims(img, 0)\n",
    "print(img2.shape)"
   ]
  },
  {
   "cell_type": "code",
   "execution_count": null,
   "metadata": {},
   "outputs": [],
   "source": [
    "img = np.zeros((600, 800))\n",
    "img.shape"
   ]
  },
  {
   "cell_type": "code",
   "execution_count": null,
   "metadata": {},
   "outputs": [],
   "source": [
    "img2 = img.reshape((1, 600, 800, 1))\n",
    "img2.shape"
   ]
  },
  {
   "cell_type": "code",
   "execution_count": null,
   "metadata": {},
   "outputs": [],
   "source": [
    "np.ones((5,3))*9"
   ]
  },
  {
   "cell_type": "code",
   "execution_count": null,
   "metadata": {},
   "outputs": [],
   "source": [
    "np.sqrt(np.linspace(0, 7, 3))"
   ]
  },
  {
   "cell_type": "code",
   "execution_count": null,
   "metadata": {},
   "outputs": [],
   "source": [
    "np.cos(np.linspace(0, np.pi*2, 20))"
   ]
  },
  {
   "cell_type": "code",
   "execution_count": null,
   "metadata": {},
   "outputs": [],
   "source": [
    "np.linspace(0, 1, 5) + np.linspace(-2, -1, 5)"
   ]
  },
  {
   "cell_type": "code",
   "execution_count": null,
   "metadata": {},
   "outputs": [],
   "source": [
    "np.array([[1, 2, 3],\n",
    "          [4, 2, 4],\n",
    "          [3, 3, 5]])*np.eye(3)"
   ]
  },
  {
   "cell_type": "code",
   "execution_count": null,
   "metadata": {},
   "outputs": [],
   "source": [
    "z = np.random.uniform(-10, 10, 10) # generate an array with 10 random values between -10 and 10\n",
    "print(z)\n",
    "print('Maximum is: ' + str(np.max(z)))"
   ]
  },
  {
   "cell_type": "code",
   "execution_count": null,
   "metadata": {},
   "outputs": [],
   "source": [
    "(z - np.min(z)) / (np.max(z) - np.min(z))"
   ]
  },
  {
   "cell_type": "code",
   "execution_count": null,
   "metadata": {},
   "outputs": [],
   "source": [
    "p = [0.3, 0.5, 0.1, 0.1]\n",
    "print(p)\n",
    "print(\"Maximum is \" + str(np.argmax(p)))"
   ]
  },
  {
   "cell_type": "code",
   "execution_count": null,
   "metadata": {},
   "outputs": [],
   "source": [
    "z = np.linspace(0, 5, 4)\n",
    "print(z)\n",
    "print(np.sum(z))"
   ]
  },
  {
   "cell_type": "code",
   "execution_count": null,
   "metadata": {},
   "outputs": [],
   "source": [
    "z = np.ones((3, 4))\n",
    "print(z)\n",
    "print(np.sum(z, axis=0)) # sum along columns\n",
    "print(np.sum(z, axis=1)) # sum along rows"
   ]
  },
  {
   "cell_type": "markdown",
   "metadata": {},
   "source": [
    "Canvas\n",
    "-----"
   ]
  },
  {
   "cell_type": "code",
   "execution_count": 6,
   "metadata": {},
   "outputs": [
    {
     "ename": "NameError",
     "evalue": "name 'reload' is not defined",
     "output_type": "error",
     "traceback": [
      "\u001b[0;31m---------------------------------------------------------------------------\u001b[0m",
      "\u001b[0;31mNameError\u001b[0m                                 Traceback (most recent call last)",
      "Cell \u001b[0;32mIn[6], line 4\u001b[0m\n\u001b[1;32m      2\u001b[0m \u001b[38;5;28;01mimport\u001b[39;00m \u001b[38;5;21;01mnumpy\u001b[39;00m \u001b[38;5;28;01mas\u001b[39;00m \u001b[38;5;21;01mnp\u001b[39;00m\n\u001b[1;32m      3\u001b[0m \u001b[38;5;28;01mfrom\u001b[39;00m \u001b[38;5;21;01mPIL\u001b[39;00m \u001b[38;5;28;01mimport\u001b[39;00m Image\n\u001b[0;32m----> 4\u001b[0m \u001b[43mreload\u001b[49m(canvas)\n\u001b[1;32m      5\u001b[0m c \u001b[38;5;241m=\u001b[39m canvas\u001b[38;5;241m.\u001b[39mCanvas(\u001b[38;5;241m800\u001b[39m, \u001b[38;5;241m600\u001b[39m)\n\u001b[1;32m      6\u001b[0m c\u001b[38;5;241m.\u001b[39mtext_size(\u001b[38;5;241m14\u001b[39m)\n",
      "\u001b[0;31mNameError\u001b[0m: name 'reload' is not defined"
     ]
    }
   ],
   "source": [
    "import time\n",
    "import numpy as np\n",
    "from PIL import Image\n",
    "reload(canvas)\n",
    "c = canvas.Canvas(800, 600)\n",
    "c.text_size(14)\n",
    "c.fill(0, 150, 255)\n",
    "# A formmatted string example\n",
    "c.text([10, 30], f\"Time since computer started {time.time()}\")\n",
    "# Some colored squares using np.linspace for a loop\n",
    "# Set color mode to hue-saturation-brightness with a scale of 1\n",
    "c.color_mode('hsv', 1.0)\n",
    "c.no_stroke()\n",
    "for t in np.linspace(0, 1, 40):\n",
    "    c.fill(t, 1.0, 1.0)\n",
    "    c.circle(t*c.width+10, 100, 10)\n",
    "# Go back to rgb with scale of 255\n",
    "c.color_mode('rgb', 255)\n",
    "# Draw a series of closed regular polygons with increasing number of sides\n",
    "c.fill(32)\n",
    "c.stroke(255)\n",
    "c.stroke_weight(5)\n",
    "start_sides, end_sides = 3, 10\n",
    "for sides in range(start_sides, end_sides):\n",
    "    radius = 30\n",
    "    x = (c.width - radius) * (sides - start_sides)/(end_sides - start_sides)\n",
    "    y = 170\n",
    "    # This creates the coordinates of the polygon\n",
    "    points = [[np.cos(t*np.pi*2)*20 + x + radius*2,\n",
    "                np.sin(t*np.pi*2)*20 + y] for t in np.linspace(0, 1, sides+1)]\n",
    "    c.polygon(points)\n",
    "# Create a numpy array with random values between 0 and 1 and treat it as an image\n",
    "# Note that size is specified as rows, columns (height, width)\n",
    "im = np.random.uniform(0, 1, (50, c.width))\n",
    "c.image(im, [0, 230])\n",
    "# We can also load an image. Here we use PIL, but there are many other methods\n",
    "im = np.array(Image.open('images/spock.jpg'))\n",
    "c.image(im, 0, 300, 150, 150)\n",
    "# Because the image is a numpy array we can perform operations on it\n",
    "# The Canvas object will also work with images that are in the [0,1] range,\n",
    "# rather than [0, 255] range. This will make performing math on the pixels easier\n",
    "im = im/255\n",
    "c.image(im**2, 160, 300, 150, 150)\n",
    "c.image(np.cos(im*np.pi*2)*0.5 + 0.5, 320, 300, 150, 150)\n",
    "# Here we muliply each channel (RGB) by a value\n",
    "c.image(im*[1.0, 0.2, 0.2], 480, 300, 150, 150)\n",
    "c.image(im*[0.0, 0.2, 1.0], 640, 300, 150, 150)\n",
    "# We can draw holes by combining draw calls\n",
    "c.show()"
   ]
  },
  {
   "cell_type": "markdown",
   "metadata": {},
   "source": [
    "Practice stop here\n",
    "-----"
   ]
  },
  {
   "cell_type": "code",
   "execution_count": null,
   "metadata": {},
   "outputs": [],
   "source": [
    "import matplotlib.pyplot as plt"
   ]
  },
  {
   "cell_type": "code",
   "execution_count": null,
   "metadata": {},
   "outputs": [],
   "source": [
    "x = np.linspace(0, np.pi*4, 100)\n",
    "y = np.sin(x)\n",
    "\n",
    "plt.figure(figsize=(10, 5))\n",
    "plt.plot(x, y)\n",
    "plt.show()"
   ]
  },
  {
   "cell_type": "code",
   "execution_count": null,
   "metadata": {},
   "outputs": [],
   "source": [
    "plt.figure(figsize=(10, 5))\n",
    "plt.title(\"Cosine and Sine\")\n",
    "plt.plot(x, np.cos(x), label='Cosine')\n",
    "plt.plot(x, np.sin(x), label='Sine')\n",
    "plt.legend()\n",
    "plt.savefig('myplot.pdf')\n",
    "plt.show()"
   ]
  },
  {
   "cell_type": "code",
   "execution_count": null,
   "metadata": {},
   "outputs": [],
   "source": [
    "plt.figure(figsize=(10, 5))\n",
    "ax = plt.subplot(1, 2, 1)\n",
    "plt.title(\"Cosine\")\n",
    "plt.plot(x, np.cos(x))\n",
    "ax = plt.subplot(1, 2, 2)\n",
    "plt.title(\"Sine\")\n",
    "plt.plot(x, np.sin(x))\n",
    "plt.show()"
   ]
  },
  {
   "cell_type": "code",
   "execution_count": null,
   "metadata": {},
   "outputs": [],
   "source": [
    "from skimage import i"
   ]
  },
  {
   "cell_type": "code",
   "execution_count": null,
   "metadata": {},
   "outputs": [],
   "source": [
    "img = io.imread('./images/spock.jpg')\n",
    "plt.figure()\n",
    "plt.imshow(img)\n",
    "plt.show()"
   ]
  },
  {
   "cell_type": "code",
   "execution_count": null,
   "metadata": {},
   "outputs": [],
   "source": [
    "img.shape"
   ]
  },
  {
   "cell_type": "code",
   "execution_count": null,
   "metadata": {},
   "outputs": [],
   "source": [
    "img.dtype"
   ]
  },
  {
   "cell_type": "code",
   "execution_count": null,
   "metadata": {},
   "outputs": [],
   "source": [
    "plt.figure()\n",
    "plt.imshow(img[:20, :20, 2], interpolation='nearest')\n",
    "plt.show()"
   ]
  },
  {
   "cell_type": "code",
   "execution_count": null,
   "metadata": {},
   "outputs": [],
   "source": [
    "from skimage import filters\n",
    "filtered_img = filters.gaussian(img, 10)\n",
    "plt.imshow(filtered_img)\n",
    "plt.show()"
   ]
  },
  {
   "cell_type": "code",
   "execution_count": null,
   "metadata": {},
   "outputs": [],
   "source": [
    "print('Type: ' + str(filtered_img.dtype) + ', max: ' + str(np.max(filtered_img)))"
   ]
  },
  {
   "cell_type": "code",
   "execution_count": null,
   "metadata": {},
   "outputs": [],
   "source": [
    "filtered_img = (filtered_img*255).astype(np.uint8)"
   ]
  },
  {
   "cell_type": "code",
   "execution_count": null,
   "metadata": {},
   "outputs": [],
   "source": [
    "!pip install face_recognition"
   ]
  },
  {
   "cell_type": "code",
   "execution_count": null,
   "metadata": {},
   "outputs": [],
   "source": [
    "import face_recognition\n",
    "landmark_features = face_recognition.face_landmarks(filtered_img)[0]\n",
    "print(landmark_features)"
   ]
  },
  {
   "cell_type": "code",
   "execution_count": null,
   "metadata": {},
   "outputs": [],
   "source": [
    "plt.figure(figsize=(15, 5))\n",
    "ax = plt.subplot(1, 3, 1)\n",
    "plt.title(\"Input image\")\n",
    "plt.imshow(filtered_img)\n",
    "\n",
    "plt.title(\"Landmarks\")\n",
    "ax = plt.subplot(1, 3, 2)\n",
    "for key, landmarks in landmark_features.items():\n",
    "    landmarks = np.array(landmarks)\n",
    "    plt.scatter(landmarks[:, 0], landmarks[:, 1])\n",
    "ax.invert_yaxis()\n",
    "plt.axis('equal')\n",
    "\n",
    "plt.subplot(1, 3, 3)\n",
    "plt.title(\"Landmarks and image\")\n",
    "plt.imshow(filtered_img)\n",
    "for key, landmarks in landmark_features.items():\n",
    "    landmarks = np.array(landmarks)\n",
    "    plt.scatter(landmarks[:, 0], landmarks[:, 1])\n",
    "plt.show()"
   ]
  },
  {
   "cell_type": "markdown",
   "metadata": {},
   "source": [
    "I'm sorry because I'm not good at math and I spent a lot of time reviewing numpy, so I didn't have much time to do creative work on canvas, but I've gone through canvas's notebook.\n",
    "\n",
    "I used gpt to answer the question, and i think this is why we use python, the data processing functions are very powerful:\n",
    "\n",
    "Arrays in Machine Learning\n",
    "Arrays, particularly those provided by the NumPy library, are fundamental in ML for several reasons:\n",
    "\n",
    "Efficient Data Storage: Arrays allow for the efficient storage and manipulation of large datasets, which is common in ML tasks.\n",
    "Vectorized Operations: NumPy arrays support vectorized operations, meaning operations can be applied to entire arrays without the need for explicit loops. This is not only more syntactically concise but also significantly faster, which is crucial for processing large datasets.\n",
    "Matrix Operations: Many machine learning algorithms, especially in deep learning, rely heavily on matrix operations such as multiplication, transposition, and dot products. NumPy arrays are optimized for these operations, making algorithm implementation more straightforward and efficient.\n",
    "Plots in Machine Learning\n",
    "Plots and visualizations are essential for understanding and interpreting the data and the behavior of algorithms in machine learning:\n",
    "\n",
    "Data Exploration and Analysis: Plots are used to visualize the data before applying ML algorithms, helping to identify patterns, outliers, and correlations between features.\n",
    "Model Evaluation: Visualization techniques are crucial for evaluating model performance. For example, ROC curves, precision-recall curves, and confusion matrices are commonly visualized to assess classification models.\n",
    "Feature Importance and Selection: Plots can highlight the most significant features contributing to the model's predictions, aiding in feature selection and optimization of the model for better performance.\n",
    "Learning Curves: Plotting learning curves can help diagnose issues with model learning, such as overfitting or underfitting, by showing how the model's performance changes over training epochs or dataset sizes."
   ]
  }
 ],
 "metadata": {
  "kernelspec": {
   "display_name": "Python 3 (ipykernel)",
   "language": "python",
   "name": "python3"
  },
  "language_info": {
   "codemirror_mode": {
    "name": "ipython",
    "version": 3
   },
   "file_extension": ".py",
   "mimetype": "text/x-python",
   "name": "python",
   "nbconvert_exporter": "python",
   "pygments_lexer": "ipython3",
   "version": "3.9.0"
  },
  "org": null,
  "vscode": {
   "interpreter": {
    "hash": "1c544d3133b9d8c6f36fca025551af31afa9ef134259e7064ad6be0c15e6401c"
   }
  }
 },
 "nbformat": 4,
 "nbformat_minor": 1
}

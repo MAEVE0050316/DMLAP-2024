{
  "cells": [
    {
      "cell_type": "markdown",
      "metadata": {},
      "source": [
        "From Javascript to Python\n",
        "=========================\n",
        "\n"
      ]
    },
    {
      "cell_type": "markdown",
      "metadata": {},
      "source": [
        "This will cover some of Python, for another good introduction to the language refer to [https://www.codecademy.com/learn](https://www.codecademy.com/learn).\n",
        "\n",
        "## !Before we start\n",
        "We will be using Visuals Studio Code to run these notebooks. Before you start, make sure that you have the editor installed, together with the necessary [Python extensions](https://code.visualstudio.com/docs/datascience/jupyter-notebooks). Then you will need to select your \"DMLAP\" environment (using the name you have chosen). On the top left of the editor you will see a \"Select Kernel\" button. Click there and select \"Python environments...\" and select your environment from the list.\n",
        "\n",
        "## Let's dig in\n",
        "Similarly to Javascript Python in an interpreted language. It has a less &ldquo;verbose&rdquo; syntax than JS hovwever,\n",
        "and some particular advantages.\n",
        "\n",
        "Let&rsquo;s look at some fundamental differences:\n",
        "\n"
      ]
    },
    {
      "cell_type": "markdown",
      "metadata": {},
      "source": [
        "## Variables\n",
        "\n"
      ]
    },
    {
      "cell_type": "markdown",
      "metadata": {},
      "source": [
        "In JavaScript we declare variables with keywords such as `let`, `var`, `const`. Python does not have that,\n",
        "we just create a variable by assigning it a value.\n",
        "E.g Javascript&rsquo;s\n",
        "\n",
        "    var a = 10;\n",
        "    var b = 100;\n",
        "\n",
        "would be\n",
        "\n"
      ]
    },
    {
      "cell_type": "code",
      "execution_count": 1,
      "metadata": {},
      "outputs": [],
      "source": [
        "a = 10\n",
        "b = 10\n",
        "\n"
      ]
    },
    {
      "cell_type": "markdown",
      "metadata": {},
      "source": [
        "Note that we do not need the semicolons (actually we don&rsquo;t need those in JS either, it is a convention).\n",
        "\n"
      ]
    },
    {
      "cell_type": "markdown",
      "metadata": {},
      "source": [
        "## Comments\n",
        "\n"
      ]
    },
    {
      "cell_type": "markdown",
      "metadata": {},
      "source": [
        "We do want to write comments in our code right? This will keep you and who is evaluating your code sane.\n",
        "In Javascript we have two syntaxes to write comments:\n",
        "\n",
        "    // This syntax for a single line comment\n",
        "\n",
        "and\n",
        "\n",
        "    /* This syntax for\n",
        "    (potentially) multi-line comments */\n",
        "\n",
        "In python we use the `#` symbol to demarkate a comment\n",
        "\n"
      ]
    },
    {
      "cell_type": "code",
      "execution_count": 1,
      "metadata": {},
      "outputs": [],
      "source": [
        "# This is a common Python comment\n",
        "a = 20 # It can be put on the same line\n"
      ]
    },
    {
      "cell_type": "markdown",
      "metadata": {},
      "source": [
        "Another way you might come across for multiline comments is the following:\n",
        "\n"
      ]
    },
    {
      "cell_type": "code",
      "execution_count": 2,
      "metadata": {},
      "outputs": [
        {
          "data": {
            "text/plain": [
              "' This is a multiline comment\\n    with longer text\\n    ...and more text'"
            ]
          },
          "execution_count": 2,
          "metadata": {},
          "output_type": "execute_result"
        }
      ],
      "source": [
        "''' This is a multiline comment\n",
        "    with longer text\n",
        "    ...and more text'''\n"
      ]
    },
    {
      "cell_type": "markdown",
      "metadata": {},
      "source": [
        "The latter is actually a &ldquo;multiline string&rdquo;, which is delimited by three single quotes `'''`.\n",
        "For example\n",
        "\n"
      ]
    },
    {
      "cell_type": "code",
      "execution_count": 4,
      "metadata": {},
      "outputs": [],
      "source": [
        "multiline_text = '''This string will contain newlines\n",
        "when I enter a newline in the definition'''"
      ]
    },
    {
      "cell_type": "markdown",
      "metadata": {},
      "source": [
        "## Strings\n",
        "\n"
      ]
    },
    {
      "cell_type": "markdown",
      "metadata": {},
      "source": [
        "We have seen an example of a multiline string above, which can be used also as a comment (usually an important one, e.g. the documentation of a function). Otherwise we can define strings similarly to Javascript with either single quotes `'Hello'` and double quotes `\"Hello\"` . We can use either as long as we are consistent (e.g. `` \"Hello` `` will not work).\n",
        "\n",
        "The `+` operator concatenates two strings, e.g.\n",
        "\n"
      ]
    },
    {
      "cell_type": "code",
      "execution_count": 9,
      "metadata": {},
      "outputs": [
        {
          "data": {
            "text/plain": [
              "'Hi10'"
            ]
          },
          "execution_count": 9,
          "metadata": {},
          "output_type": "execute_result"
        }
      ],
      "source": [
        "\"Hello\" + \" ,world!\"\n",
        "a= 'Hello' + ',world!'\n",
        "type(a)\n",
        "a\n",
        "#'Hello, world!'\n",
        "# a= 'Hello' + 50 - error, cannot add a word to string\n",
        "b= 'Hi' + str(10)#可以通过str转化为字符\n",
        "type(b)#可以告知我们type是什么\n",
        "b"
      ]
    },
    {
      "cell_type": "markdown",
      "metadata": {},
      "source": [
        "and we can convert a number or other object to a string using the `str` keyword. E.g.\n",
        "\n"
      ]
    },
    {
      "cell_type": "code",
      "execution_count": 6,
      "metadata": {},
      "outputs": [
        {
          "data": {
            "text/plain": [
              "'Hello class of 50'"
            ]
          },
          "execution_count": 6,
          "metadata": {},
          "output_type": "execute_result"
        }
      ],
      "source": [
        "\"Hello class of \" + str(50)\n"
      ]
    },
    {
      "cell_type": "markdown",
      "metadata": {},
      "source": [
        "There are other more sophisticated ways to create strings. E.g. using the [&ldquo;format&rdquo;](https://www.w3schools.com/python/ref_string_format.asp) approach or using a [formatting syntax similar to C/C++](https://www.learnpython.org/en/String_Formatting).\n",
        "\n"
      ]
    },
    {
      "cell_type": "markdown",
      "metadata": {},
      "source": [
        "## Identation and scope\n",
        "\n"
      ]
    },
    {
      "cell_type": "markdown",
      "metadata": {},
      "source": [
        "Now to the biggest difference. In Javascript we enclose &ldquo;content&rdquo;, such as the\n",
        "body of a function, or the operations following an `if` statement, with curly\n",
        "braces (`{` and `}`). The curly braces define what is known as &ldquo;scope&rdquo;.\n",
        "\n",
        "    function doSomething(A, B) {\n",
        "        if (A == 10){\n",
        "            print(\"A is 10, B does not matter\");\n",
        "        }else if (A==5 || B==10){\n",
        "            print(\"either A is 5 or B is 10\");\n",
        "        }else if (A==9 && B!=5) {\n",
        "            print(\"A is 9 and B is not 5\");\n",
        "        }else if (!A) {\n",
        "            print(\"A is zero\");\n",
        "        }else{\n",
        "            print(\"A and B are something else\");\n",
        "        }\n",
        "    }\n",
        "\n",
        "Let&rsquo;s look at the same function in Python:\n",
        "\n"
      ]
    },
    {
      "cell_type": "code",
      "execution_count": 10,
      "metadata": {},
      "outputs": [],
      "source": [
        "def doSomething(A, B):\n",
        "    if A == 10:\n",
        "        print(\"A is 10, b does not matter\") # if/ while/for loop:Python: \n",
        "        #Parentheses () around conditions are optional, \n",
        "        #and scope is defined through indentation. \n",
        "        #Python uses elif instead of \n",
        "        #JavaScript's else if for additional conditions.\n",
        "        \n",
        "    elif A == 5 or B == 10:\n",
        "        print(\"either A is 5 or B is 10\")\n",
        "    elif A == 9 and B != 5:\n",
        "        print(\"A is 9 and B is not 5\")\n",
        "    elif not A:\n",
        "        print(\"A is zero\")\n",
        "    else:\n",
        "        print(\"A and B are something else\")"
      ]
    },
    {
      "cell_type": "markdown",
      "metadata": {},
      "source": [
        "So we have the same `()` syntax for the defining functions but instead of\n",
        "`function` we use `def` and most importantly we define scope using a colon `:`\n",
        "followed by a new line and an **indentation**. In practice, when you write **clean**\n",
        "javascript you follow a similar procedure. So if you remove the opening curly\n",
        "braces in the example above with a colon, replace `function` with `def` and\n",
        "remove the closing `}` we basically are done with translating the code... with a few exceptions. Note\n",
        "that we can write `if a==10` without the parentheses. Indeed for `if` statements\n",
        "or other basic statements (e.g. `for`, `while`) the parentheses are optional in\n",
        "Python. Not a problem if you use them though.\n",
        "Note also that istead of `else if`, Python uses the `elif` keyword. \n",
        "\n",
        "Another notable difference are the logical operators. Equality and inequality are expressed both in JS and Python as `==` and `!=`. However, `and` and `or` are explicitly written in Python as opposed to Javascript, which uses `&&` and `||`. Same for the negation operator `not`, which in JS is expressed as `!`. The latter is a bit confusing as the inequality is still `!=` and the same in the two languages.\n",
        "\n"
      ]
    },
    {
      "cell_type": "code",
      "execution_count": null,
      "metadata": {},
      "outputs": [],
      "source": []
    },
    {
      "cell_type": "markdown",
      "metadata": {},
      "source": [
        "## Lists, iterables, dictionaries and sets\n",
        "\n"
      ]
    },
    {
      "cell_type": "markdown",
      "metadata": {},
      "source": [
        "Python offers quite powerful default containers that have similarities to Javascript.\n",
        "Let&rsquo;s start with [lists](https://www.w3schools.com/python/python_lists.asp), which are very similar to Javascript&rsquo;s `Array` but have a more concise syntax.\n",
        "\n"
      ]
    },
    {
      "cell_type": "markdown",
      "metadata": {},
      "source": [
        "#### Lists\n",
        "\n"
      ]
    },
    {
      "cell_type": "markdown",
      "metadata": {},
      "source": [
        "A `list`, similarly to an `Array` in Javascript, can be simply created using square brackets:\n",
        "\n"
      ]
    },
    {
      "cell_type": "code",
      "execution_count": 11,
      "metadata": {},
      "outputs": [
        {
          "data": {
            "text/plain": [
              "list"
            ]
          },
          "execution_count": 11,
          "metadata": {},
          "output_type": "execute_result"
        }
      ],
      "source": [
        "myList = [0, 1, 4, 6, 10]\n",
        "type(myList)"
      ]
    },
    {
      "cell_type": "markdown",
      "metadata": {},
      "source": [
        "we can index the list using square brackets, e.g.\n",
        "\n"
      ]
    },
    {
      "cell_type": "code",
      "execution_count": 14,
      "metadata": {},
      "outputs": [
        {
          "data": {
            "text/plain": [
              "10"
            ]
          },
          "execution_count": 14,
          "metadata": {},
          "output_type": "execute_result"
        }
      ],
      "source": [
        "myList[2]\n",
        "myList[-1]\n",
        "#python允许负index，最后一个元素从-1算起，在这个list里，10-index-1；6-index-2\n",
        "#而同样的效果在javascript中必须用myList[myList.length-1]\n",
        "myList[len(myList)-1] == myList[-1]\n",
        "#lenghth的样子也跟js不太一样"
      ]
    },
    {
      "cell_type": "markdown",
      "metadata": {},
      "source": [
        "will give us the third element in the list (starting from `0`, like JS).\n",
        "We can also set an element (as long as the list has enough elements) with the same syntax\n",
        "\n"
      ]
    },
    {
      "cell_type": "code",
      "execution_count": 10,
      "metadata": {},
      "outputs": [],
      "source": [
        "myList[2] = 10000"
      ]
    },
    {
      "cell_type": "markdown",
      "metadata": {},
      "source": [
        "We can add or &ldquo;pop&rdquo; elements from a list similarly to Javascript, but using the\n",
        "`append` and `pop` methods (these are equivalent to `push` and `pop` in\n",
        "javascript). E.g let&rsquo;s create an empty list and add two strings to it:\n",
        "\n"
      ]
    },
    {
      "cell_type": "code",
      "execution_count": 17,
      "metadata": {},
      "outputs": [
        {
          "name": "stdout",
          "output_type": "stream",
          "text": [
            "['Hello', ', ', 'World']\n"
          ]
        }
      ],
      "source": [
        "myList = []\n",
        "myList.append(\"Hello\")\n",
        "myList.append(\", \")\n",
        "myList.append(\"World\")\n",
        "print(myList)\n",
        "\n"
      ]
    },
    {
      "cell_type": "markdown",
      "metadata": {},
      "source": [
        "By default the `pop` keyword will remove the last element of the list and return it, for example\n",
        "\n"
      ]
    },
    {
      "cell_type": "code",
      "execution_count": 16,
      "metadata": {},
      "outputs": [
        {
          "name": "stdout",
          "output_type": "stream",
          "text": [
            "World\n"
          ]
        }
      ],
      "source": [
        "print(myList.pop())\n"
      ]
    },
    {
      "cell_type": "markdown",
      "metadata": {},
      "source": [
        "We can also give pop an index, so\n",
        "\n"
      ]
    },
    {
      "cell_type": "code",
      "execution_count": 13,
      "metadata": {},
      "outputs": [
        {
          "data": {
            "text/plain": [
              "'Hello'"
            ]
          },
          "execution_count": 13,
          "metadata": {},
          "output_type": "execute_result"
        }
      ],
      "source": [
        "myList.pop(0)"
      ]
    },
    {
      "cell_type": "markdown",
      "metadata": {},
      "source": [
        "will remove the *first* element from the list and return it.\n",
        "\n",
        "While in Javascript we used the `length` property to get the size of an array, in Python we get the number of elements in a list (or in other types of objects as well, such as strings) with the `len` function. E.g.\n",
        "\n"
      ]
    },
    {
      "cell_type": "code",
      "execution_count": 18,
      "metadata": {},
      "outputs": [
        {
          "name": "stdout",
          "output_type": "stream",
          "text": [
            "3\n",
            "5\n"
          ]
        },
        {
          "data": {
            "text/plain": [
              "'len(\\'hello\\')- print(len(\\'hello\\')) 结果也是5，\\n这是将字符串\\'hello\\'直接传递给len()函数。没有变量赋值；————适合一次性\\n\\n该函数直接计算提供的字符串文字的长度。name = \"hello\"\\nprint(len(name))- 在这里，字符串\\'hello\\'首先被分配给名为 的变量name。\\n然后，该len()函数将作为其参数被调用name。\\n这种方法涉及在计算字符串长度之前将字符串存储在变量中的额外步骤。————适合多个值和多次调用'"
            ]
          },
          "execution_count": 18,
          "metadata": {},
          "output_type": "execute_result"
        }
      ],
      "source": [
        "num_elements = len(myList)\n",
        "print(num_elements)\n",
        "name = \"hello\"\n",
        "print(len(name)) # This give us the length of the string\n",
        "'''len('hello')- print(len('hello')) 结果也是5，\n",
        "这是将字符串'hello'直接传递给len()函数。没有变量赋值；————适合一次性\n",
        "\n",
        "该函数直接计算提供的字符串文字的长度。name = \"hello\"\n",
        "print(len(name))- 在这里，字符串'hello'首先被分配给名为 的变量name。\n",
        "然后，该len()函数将作为其参数被调用name。\n",
        "这种方法涉及在计算字符串长度之前将字符串存储在变量中的额外步骤。————适合多个值和多次调用'''"
      ]
    },
    {
      "cell_type": "markdown",
      "metadata": {},
      "source": [
        "#### Indexing and slicing lists\n",
        "\n"
      ]
    },
    {
      "cell_type": "markdown",
      "metadata": {},
      "source": [
        "One nice feature of Python is that we can index a list backwards! For instance\n",
        "`myList[-1]` will give us the last element of the list, `myList[-2]` the second to last, and so forth&#x2026;\n",
        "\n",
        "In addition, and more on this later, we can easily slice up a list. We will not cover every technique here but for example we can get the first three elements of a list:\n",
        "\n"
      ]
    },
    {
      "cell_type": "code",
      "execution_count": 15,
      "metadata": {},
      "outputs": [
        {
          "data": {
            "text/plain": [
              "[0, 1, 3]"
            ]
          },
          "execution_count": 15,
          "metadata": {},
          "output_type": "execute_result"
        }
      ],
      "source": [
        "elements = [0, 1, 3, 5, 7]\n",
        "elements[:3]"
      ]
    },
    {
      "cell_type": "markdown",
      "metadata": {},
      "source": [
        "or for example skip the first two elements with:\n",
        "\n"
      ]
    },
    {
      "cell_type": "code",
      "execution_count": 16,
      "metadata": {},
      "outputs": [
        {
          "data": {
            "text/plain": [
              "[3, 5, 7]"
            ]
          },
          "execution_count": 16,
          "metadata": {},
          "output_type": "execute_result"
        }
      ],
      "source": [
        "elements[2:]"
      ]
    },
    {
      "cell_type": "markdown",
      "metadata": {},
      "source": [
        "or skip the fist and last element with:\n",
        "\n"
      ]
    },
    {
      "cell_type": "code",
      "execution_count": 17,
      "metadata": {},
      "outputs": [
        {
          "data": {
            "text/plain": [
              "[1, 3, 5]"
            ]
          },
          "execution_count": 17,
          "metadata": {},
          "output_type": "execute_result"
        }
      ],
      "source": [
        "elements[1:-1]"
      ]
    },
    {
      "cell_type": "markdown",
      "metadata": {},
      "source": [
        "Experiment with the code to get a feel of what is possible and more information can be found here [https://www.learnbyexample.org/python-list-slicing/](https://www.learnbyexample.org/python-list-slicing/).\n",
        "\n"
      ]
    },
    {
      "cell_type": "markdown",
      "metadata": {},
      "source": [
        "start：从哪里开始切片。如果在第一个冒号 ( :) 之前省略，则对于正步骤，它默认位于列表的开头；对于负步骤，它默认位于列表的末尾。\n",
        "stop：切片在哪里结束（不包含）。如果在第一个冒号之后和第二个冒号之前（如果存在）被省略，则对于正步骤，它默认位于列表的末尾；对于负步骤，它默认位于列表的开头。\n",
        "step：每次跳过多少项。正数 n 表示“切片时向前移动 n 个位置”，负数表示“向后移动”。\n",
        "当您使用 时[::-1]，它会转换为：\n",
        "\n",
        "start隐含地是列表的末尾（由于负步骤，Python 默认从末尾开始）。\n",
        "stop隐含地是列表的开始（同样，因为负步骤意味着在列表中向后移动）。\n",
        "stepis -1，这意味着“以相反的顺序获取每个元素”。\n",
        "所以，[::-1]并不意味着“从索引 0 开始和结束”。相反，它的意思是“从末尾开始，从开头停止，一次向后遍历列表一个元素”。这有效地颠倒了列表。\n",
        "\n",
        "以下是它如何与您的列表配合使用L = ['a', 'b', 'c', 'd', 'e']：\n",
        "\n",
        "如果没有明确的开始和停止，切片会从末尾 ( 'e') 开始，并向后移动（因为-1）遍历每个元素，直到到达列表的开头。\n",
        "结果是['e', 'd', 'c', 'b', 'a']，相反L。"
      ]
    },
    {
      "cell_type": "code",
      "execution_count": 19,
      "metadata": {},
      "outputs": [
        {
          "name": "stdout",
          "output_type": "stream",
          "text": [
            "['e', 'd', 'c', 'b', 'a']\n"
          ]
        }
      ],
      "source": [
        "L = ['a', 'b', 'c', 'd', 'e']\n",
        "print(L[::-1])"
      ]
    },
    {
      "cell_type": "markdown",
      "metadata": {},
      "source": []
    },
    {
      "cell_type": "markdown",
      "metadata": {},
      "source": [
        "### Iterables and loops\n",
        "\n"
      ]
    },
    {
      "cell_type": "markdown",
      "metadata": {},
      "source": [
        "Python has another quite drastic difference from Javascript and other languages in the way we construct loops. In Javascript we have encountered the typical `for` loop contruct\n",
        "\n",
        "    for (let i = 0; i < 10; i++){\n",
        "        print(i)\n",
        "    }\n",
        "\n",
        "and this does not really exist in Python. To do an equivalent for loop we would write:\n",
        "\n"
      ]
    },
    {
      "cell_type": "code",
      "execution_count": 20,
      "metadata": {},
      "outputs": [
        {
          "name": "stdout",
          "output_type": "stream",
          "text": [
            "0\n",
            "1\n",
            "2\n",
            "3\n",
            "4\n",
            "5\n",
            "6\n",
            "7\n",
            "8\n",
            "9\n"
          ]
        },
        {
          "data": {
            "text/plain": [
              "range(0, 10)"
            ]
          },
          "execution_count": 20,
          "metadata": {},
          "output_type": "execute_result"
        }
      ],
      "source": [
        "for i in range(10):\n",
        "    print(i)\n",
        "range(10) #this is an object called range"
      ]
    },
    {
      "cell_type": "code",
      "execution_count": 22,
      "metadata": {},
      "outputs": [
        {
          "name": "stdout",
          "output_type": "stream",
          "text": [
            "1\n",
            "3\n",
            "5\n",
            "7\n",
            "9\n"
          ]
        }
      ],
      "source": [
        "# range(1,10,2)\n",
        "for i in range(1,10,2):\n",
        "    print (i)"
      ]
    },
    {
      "cell_type": "markdown",
      "metadata": {},
      "source": [
        "here [range](https://www.w3schools.com/python/ref_func_range.asp) is a function that returns an object that can be iterated. It is similar to a `list`, but it is actually known as a [generator](https://www.programiz.com/python-programming/generator). We will not go into details on generators here, but these are objects that spit out an ordered sequence of elements. The syntax `range(10)` gives us a sequence of numbers from zero to 100. We can display it by converting it to a list with\n",
        "\n"
      ]
    },
    {
      "cell_type": "code",
      "execution_count": 19,
      "metadata": {},
      "outputs": [
        {
          "data": {
            "text/plain": [
              "[0, 1, 2, 3, 4, 5, 6, 7, 8, 9]"
            ]
          },
          "execution_count": 19,
          "metadata": {},
          "output_type": "execute_result"
        }
      ],
      "source": [
        "list(range(10))"
      ]
    },
    {
      "cell_type": "markdown",
      "metadata": {},
      "source": [
        "The `for` keyword essentially extracts elements from an object that can be iterated. This object can be a generator (such as a `range`) or a list. For example using the earlier list:\n",
        "\n"
      ]
    },
    {
      "cell_type": "code",
      "execution_count": 23,
      "metadata": {},
      "outputs": [
        {
          "name": "stdout",
          "output_type": "stream",
          "text": [
            "Hello\n",
            ", \n",
            "World\n"
          ]
        }
      ],
      "source": [
        "for s in myList:\n",
        "    print(s)\n"
      ]
    },
    {
      "cell_type": "markdown",
      "metadata": {},
      "source": [
        "goes through the list. This may look strange at first, but it is a very powerful construct. A perhaps useful way of thinking of it is to see the `for` as a machine that sequentially extracts elements from a list, or an object that can be iterated, until these elements are finished.\n",
        "As another example, say we want to loop through the characters of the string &ldquo;hello world&rdquo;. Since also strings are iteratable, we can simply do:\n",
        "\n"
      ]
    },
    {
      "cell_type": "code",
      "execution_count": 21,
      "metadata": {},
      "outputs": [
        {
          "name": "stdout",
          "output_type": "stream",
          "text": [
            "h\n",
            "e\n",
            "l\n",
            "l\n",
            "o\n",
            " \n",
            "w\n",
            "o\n",
            "r\n",
            "l\n",
            "d\n"
          ]
        }
      ],
      "source": [
        "for c in \"hello world\":\n",
        "    print(c)"
      ]
    },
    {
      "cell_type": "markdown",
      "metadata": {},
      "source": [
        "We will see later many other useful ways to generate lists or arrays that can be iterated with `for`.\n",
        "\n"
      ]
    },
    {
      "cell_type": "markdown",
      "metadata": {},
      "source": [
        "##### List comprehensions (extra)\n",
        "\n"
      ]
    },
    {
      "cell_type": "markdown",
      "metadata": {},
      "source": [
        "A perhaps cryptic looking construct that is very much used in Python, and is worth knowing about is a &ldquo;list comprehension&rdquo;. Essentially this is a concise way of generating lists using for loops inside the brackets that define the list.\n",
        "E.g. say we wanted to have a list with the length of each string in our `myList` list.\n",
        "We can do\n",
        "\n"
      ]
    },
    {
      "cell_type": "code",
      "execution_count": 25,
      "metadata": {},
      "outputs": [
        {
          "name": "stdout",
          "output_type": "stream",
          "text": [
            "[5, 2, 5]\n"
          ]
        }
      ],
      "source": [
        "lengths = [len(string) for string in myList]\n",
        "print(lengths)\n",
        "#for string in myList:这部分推导式迭代 中的每一项myList，依次将每一项分配给变量string。\n",
        "#len(string):对于myList中的每个项目，此操作计算其长度。len()是一个内置的 Python 函数，用于返回对象中的项目数。当用于字符串时，它返回字符串中的字符数。的结果len(string)是将包含在每个项目的新列表中的值。\n"
      ]
    },
    {
      "cell_type": "markdown",
      "metadata": {},
      "source": [
        "Python 中的 For 循环\n",
        "在 Python 中，for 循环用于迭代序列（如列表、元组或字符串）或其他可迭代对象。基本语法是：\n",
        "for variable in sequence:\n",
        "    # do something with variable\n",
        "variable是循环迭代时序列中每个项目的占位符。\n",
        "sequence是您要迭代的集合。\n",
        "e.g.for letter in 'hello':\n",
        "    print(letter)\n",
        "该循环打印字符串中的每个字符'hello'。\n",
        "\n",
        "-------------------------\n",
        "JavaScript 中的 For 循环\n",
        "在 JavaScript 中，传统的 for 循环具有不同的语法，涉及初始化、条件和增量表达式：\n",
        "for (let i = 0; i < something.length; i++) {\n",
        "    // do something with something[i]\n",
        "}\n",
        "然而，JavaScript 也有for...of循环，在可读性和目的方面更接近于 Python 的 for 循环：\n",
        "for (const item of array) {\n",
        "    // do something with item\n",
        "}\n",
        "\n",
        "--------------------------\n",
        "Python 中的列表推导式\n",
        "Python 中的列表推导式提供了一种创建列表的简洁方法。它将 for 循环和列表创建合并到一行代码中。语法是：\n",
        "[new_item for variable in iterable]\n",
        "new_item是定义如何从变量派生新列表中的每个项目的表达式。\n",
        "variable是原始项目iterable（如列表）中每个项目的占位符。\n",
        "e.g.squares = [x**2 for x in range(5)]\n",
        "这将创建一个由数字 0 到 4 组成的方块列表。\n",
        "\n",
        "\n"
      ]
    },
    {
      "cell_type": "code",
      "execution_count": 28,
      "metadata": {},
      "outputs": [
        {
          "name": "stdout",
          "output_type": "stream",
          "text": [
            "Hello\n",
            ", \n",
            "World\n"
          ]
        }
      ],
      "source": [
        "#c = [for string in myList]\n",
        "#print (c) -------wrong\n",
        "'''xx = [expression for string in myList]\n",
        "expressionxx：您可以在此处定义新列表中每个元素的内容。\n",
        "可以expression像变量string本身一样简单\n",
        "（如果您只想将元素复制到myList）xx，也可以涉及操作string\n",
        "（例如，修改字符串、基于它计算某些内容等）。\n",
        "\n",
        "这种方法使您可以灵活地轻松创建从现有列表或其他可迭代对象派生的新列表，\n",
        "其中每个元素都是基于原始可迭代对象元素的转换、选择或计算。'''\n",
        "\n",
        "for string in myList:\n",
        "    print(string)\n",
        "'''只需迭代myList并执行print(string)每个stringin的语句myList。\n",
        "不需要显式定义元素的类型，因为您没有创建新列表；\n",
        "您只是对每个元素执行操作（在本例中为打印）。'''\n",
        "\n",
        "    \n"
      ]
    },
    {
      "cell_type": "markdown",
      "metadata": {},
      "source": [
        "Reading this out loud would be\n",
        "> Create a list (using an opening `[`) and put `len(string)` into each element of the list, for each `string` contained in `myList`. Finish creating the list (closing `]`)Even more powerful, we can filter out elements by even adding an if statement at the end of this expression. E.g.\n",
        "\n"
      ]
    },
    {
      "cell_type": "code",
      "execution_count": 32,
      "metadata": {},
      "outputs": [
        {
          "data": {
            "text/plain": [
              "[]"
            ]
          },
          "execution_count": 32,
          "metadata": {},
          "output_type": "execute_result"
        }
      ],
      "source": [
        "[string for string in myList if string[1]=='H']"
      ]
    },
    {
      "cell_type": "code",
      "execution_count": 33,
      "metadata": {},
      "outputs": [
        {
          "data": {
            "text/plain": [
              "['Hello']"
            ]
          },
          "execution_count": 33,
          "metadata": {},
          "output_type": "execute_result"
        }
      ],
      "source": [
        "[string for string in myList if string[0]=='H']\n"
      ]
    },
    {
      "cell_type": "code",
      "execution_count": null,
      "metadata": {},
      "outputs": [],
      "source": []
    },
    {
      "cell_type": "markdown",
      "metadata": {},
      "source": [
        "will give us a new list, where an element is present only if it starts with the &ldquo;H&rdquo;. So if our list is unchanged, it will contain only one element.\n",
        "\n"
      ]
    },
    {
      "cell_type": "markdown",
      "metadata": {},
      "source": [
        "### Tuples\n",
        "\n"
      ]
    },
    {
      "cell_type": "markdown",
      "metadata": {},
      "source": [
        "The `tuple` object in Python is an iterable object very similar to a `list`, with the main difference that it is **immutable**. We create it with opening and closing round brackets. \n",
        "Python 中的元组是一种有序且不可变的集合类型。这意味着一旦创建了元组，其内容就无法更改，这与可以修改元素的列表不同。元组是通过将元素括在括号中来定义的()，而不是[]用于列表的方括号。\n",
        "E.g.\n",
        "\n"
      ]
    },
    {
      "cell_type": "code",
      "execution_count": 24,
      "metadata": {},
      "outputs": [],
      "source": [
        "vals = (10, 20, 30)"
      ]
    },
    {
      "cell_type": "markdown",
      "metadata": {},
      "source": [
        "However, while for the case of a list we could assign an element, for tuples this is not possible. E.g\n",
        "\n"
      ]
    },
    {
      "cell_type": "code",
      "execution_count": 37,
      "metadata": {},
      "outputs": [
        {
          "ename": "TypeError",
          "evalue": "'tuple' object does not support item assignment",
          "output_type": "error",
          "traceback": [
            "\u001b[0;31m---------------------------------------------------------------------------\u001b[0m",
            "\u001b[0;31mTypeError\u001b[0m                                 Traceback (most recent call last)",
            "Cell \u001b[0;32mIn[37], line 1\u001b[0m\n\u001b[0;32m----> 1\u001b[0m \u001b[43mvals\u001b[49m\u001b[43m[\u001b[49m\u001b[38;5;241;43m0\u001b[39;49m\u001b[43m]\u001b[49m \u001b[38;5;241m=\u001b[39m \u001b[38;5;241m10\u001b[39m\n",
            "\u001b[0;31mTypeError\u001b[0m: 'tuple' object does not support item assignment"
          ]
        }
      ],
      "source": [
        "vals[0] = 10\n"
      ]
    },
    {
      "cell_type": "markdown",
      "metadata": {},
      "source": [
        "will give us an error.\n",
        "\n"
      ]
    },
    {
      "cell_type": "markdown",
      "metadata": {},
      "source": [
        "#### Using tuples in practice\n",
        "\n"
      ]
    },
    {
      "cell_type": "markdown",
      "metadata": {},
      "source": [
        "You will often see tuples &ldquo;hidden&rdquo; in Python code, as they can be defined and assigned also without the use of the parenthesis. E.g.\n",
        "\n"
      ]
    },
    {
      "cell_type": "code",
      "execution_count": 38,
      "metadata": {},
      "outputs": [],
      "source": [
        "vals = 10, 20, 30\n",
        "def myFunc():\n",
        "    return 'a', 'b'\n",
        "\n",
        "a, b = myFunc()\n"
      ]
    },
    {
      "cell_type": "markdown",
      "metadata": {},
      "source": [
        "Is perfectly equivalent to the code above using the `(10, 20, 30)` syntax. Well, why is this ueful? We can do some really concise expressions, for example we can write:\n",
        "\n"
      ]
    },
    {
      "cell_type": "code",
      "execution_count": 41,
      "metadata": {},
      "outputs": [],
      "source": [
        "a, b, c = 10, 20, 30\n"
      ]
    },
    {
      "cell_type": "markdown",
      "metadata": {},
      "source": [
        "and this will assign 10, 20, 30 to `a`, `b` and `c` respectively.\n",
        "Or we can swap a and b with simply\n",
        "\n"
      ]
    },
    {
      "cell_type": "code",
      "execution_count": 42,
      "metadata": {},
      "outputs": [
        {
          "data": {
            "text/plain": [
              "20"
            ]
          },
          "execution_count": 42,
          "metadata": {},
          "output_type": "execute_result"
        }
      ],
      "source": [
        "a, b = b, a\n",
        "#这使得这些变化很简单 （a ,b) = (b ,a)\n",
        "a\n",
        "\n"
      ]
    },
    {
      "cell_type": "markdown",
      "metadata": {},
      "source": [
        "Or for example we can iterate more conveniently over a list of tuples\n",
        "\n"
      ]
    },
    {
      "cell_type": "markdown",
      "metadata": {},
      "source": [
        "在每次迭代中，Python 从列表中解压一个元组并将值分配给a和b。\n",
        "然后，它计算a和b并打印结果。\n",
        "迭代细分\n",
        "第一次迭代：第一个元组是(2, 4)。\n",
        "\n",
        "a被赋值为2。\n",
        "b被赋值为4。\n",
        "a和的和b是2 + 4 = 6，所以6被打印。\n",
        "第二次迭代：第二个元组是(2, 5)。\n",
        "\n",
        "a被再次赋值2。\n",
        "b被赋值为5。\n",
        "a和的和b是2 + 5 = 7，所以7被打印。\n"
      ]
    },
    {
      "cell_type": "code",
      "execution_count": 39,
      "metadata": {},
      "outputs": [
        {
          "name": "stdout",
          "output_type": "stream",
          "text": [
            "6\n",
            "7\n"
          ]
        }
      ],
      "source": [
        "for a, b in [(2, 4), (2, 5)]:\n",
        "    print(a + b)\n"
      ]
    },
    {
      "cell_type": "markdown",
      "metadata": {},
      "source": [
        "发生的情况如下：\n",
        "\n",
        "type(a)返回<class 'float'>，这是真的。\n",
        "type(b)返回<class 'int'>，这也是事实。\n",
        "该and运算符返回第二个操作数 ( ) 的值type(b)，因为两个操作数在布尔上下文中均为 true。\n",
        "这就是为什么你看到<class 'int'>的是输出。b这并不是说 Python 只是识别或显示;的类型。这就是and操作员在这种情况下的工作方式。"
      ]
    },
    {
      "cell_type": "code",
      "execution_count": 48,
      "metadata": {},
      "outputs": [
        {
          "data": {
            "text/plain": [
              "int"
            ]
          },
          "execution_count": 48,
          "metadata": {},
          "output_type": "execute_result"
        }
      ],
      "source": [
        "a = 10.12312\n",
        "b = 10\n",
        "type(a) \n",
        "type(b)\n"
      ]
    },
    {
      "cell_type": "code",
      "execution_count": 47,
      "metadata": {},
      "outputs": [
        {
          "name": "stdout",
          "output_type": "stream",
          "text": [
            "<class 'float'> <class 'int'>\n"
          ]
        },
        {
          "data": {
            "text/plain": [
              "(float, int)"
            ]
          },
          "execution_count": 47,
          "metadata": {},
          "output_type": "execute_result"
        }
      ],
      "source": [
        "print(type(a), type(b))\n",
        "type(a), type(b)\n"
      ]
    },
    {
      "cell_type": "code",
      "execution_count": 49,
      "metadata": {},
      "outputs": [
        {
          "name": "stdout",
          "output_type": "stream",
          "text": [
            "10\n"
          ]
        }
      ],
      "source": [
        "a = 10.12312\n",
        "print(int(a))"
      ]
    },
    {
      "cell_type": "markdown",
      "metadata": {},
      "source": [
        "We will see another practical application of this later with dictionaries.\n",
        "\n"
      ]
    },
    {
      "cell_type": "markdown",
      "metadata": {},
      "source": [
        "##### A note on assignments and references in Python\n",
        "\n"
      ]
    },
    {
      "cell_type": "markdown",
      "metadata": {},
      "source": [
        "Similarly to Javascript, in most cases when we create an object such as a list,\n",
        "assigning it to another variable will not copy the object but just refer to the\n",
        "same object. This is true for lists for example:\n",
        "\n"
      ]
    },
    {
      "cell_type": "code",
      "execution_count": 50,
      "metadata": {},
      "outputs": [
        {
          "name": "stdout",
          "output_type": "stream",
          "text": [
            "[0, 2, 3]\n",
            "[0, 2, 100]\n"
          ]
        }
      ],
      "source": [
        "list_a = [0, 2, 3]\n",
        "list_b = list_a\n",
        "print(list_b)\n",
        "list_a[2] = 100\n",
        "print(list_b)\n"
      ]
    },
    {
      "cell_type": "markdown",
      "metadata": {},
      "source": [
        "This is not true for tuples as they are immutable. So assigning a `tuple` will create a copy of it. The same holds for strings.\n",
        "\n"
      ]
    },
    {
      "cell_type": "markdown",
      "metadata": {},
      "source": [
        "### Dictionaries\n",
        "\n"
      ]
    },
    {
      "cell_type": "markdown",
      "metadata": {},
      "source": [
        "Another important Python object is a [dict](https://www.w3schools.com/python/python_dictionaries.asp), a &ldquo;dictionary&rdquo; very similar also in syntax to Javasript objects and it is a collection of key:value pairs.\n",
        "\n",
        "比如很多图像很多坐标可以用\n",
        "\n"
      ]
    },
    {
      "cell_type": "code",
      "execution_count": 54,
      "metadata": {},
      "outputs": [],
      "source": [
        "mydict = {\"name\": \"John\",\n",
        "          \"surname\": \"Doe\",\n",
        "          \"age\": 360,\n",
        "          (10,20):'dog',\n",
        "          10:30}\n",
        "#tuple,string number等等都可以使用，但是list不可以，因为list的type是可变的"
      ]
    },
    {
      "cell_type": "markdown",
      "metadata": {},
      "source": [
        "A bit less conveniently than Javascript we cannot use the `.` to access the\n",
        "elements in a dictionary. We need to explicitly give the key inside square\n",
        "brackets,\n",
        "in javascript: console.log(myObject.name); // Outputs: John\n",
        "console.log(myObject.surname); // Outputs: Doe\n",
        "console.log(myObject.age); // Outputs: 360\n",
        "\n",
        "while in python\n",
        " e.g.\n",
        "\n"
      ]
    },
    {
      "cell_type": "code",
      "execution_count": 52,
      "metadata": {},
      "outputs": [
        {
          "data": {
            "text/plain": [
              "360"
            ]
          },
          "execution_count": 52,
          "metadata": {},
          "output_type": "execute_result"
        }
      ],
      "source": [
        "mydict['age']\n"
      ]
    },
    {
      "cell_type": "markdown",
      "metadata": {},
      "source": [
        "will give us the value of the entry with key &ldquo;age&rdquo;.\n",
        "\n",
        "Dictionaries are also iterable, but with some subtleties. We can iterate over\n",
        "all the key, value pairs with the `.items()` method, which iterates over all the\n",
        "(key, value) pairs in the dictionary. These are given as tuples so we have:\n",
        "\n",
        "理解.items()\n",
        "mydict2.items()mydict2：此方法返回包含元组的字典的可迭代视图对象(key, value)。每个元组代表字典中的一个键值对。\n",
        "\n",
        "for key, value in mydict2.items()：此行启动一个 for 循环，迭代(key, value)所返回的可迭代对象中的每个元组mydict2.items()。\n",
        "\n",
        "Python 自动将每个元组解包为两个变量，key和value，其中key是字典中的键，value是对应的值。\n",
        "\n",
        "循环的操作\n",
        "在循环的每次迭代中，key保存当前键，并value保存字典中相应的值。\n",
        "\n",
        "print(key + ' ' + str(value))：在循环内，此行将key(已经是字符串) 和value(使用 转换为字符串str(value)，这是必要的，因为值可以是任何类型，如整数) 之间用空格连接，并打印结果。"
      ]
    },
    {
      "cell_type": "code",
      "execution_count": 65,
      "metadata": {},
      "outputs": [
        {
          "name": "stdout",
          "output_type": "stream",
          "text": [
            "name John\n",
            "surname Doe\n",
            "age 360\n"
          ]
        }
      ],
      "source": [
        "mydict2 = {\"name\": \"John\",\n",
        "          \"surname\": \"Doe\",\n",
        "          \"age\": 360}\n",
        "\n",
        "for key, value in mydict2.items():\n",
        "    print(key + ' ' + str(value))\n",
        "    "
      ]
    },
    {
      "cell_type": "markdown",
      "metadata": {},
      "source": [
        "\n",
        "不能直接迭代然后打印的原因mydict2是for key, value in mydict2:直接key + ' ' + str(value)迭代字典只能给出它的键，而不是键值对。要迭代键和值，您需要使用.items()字典上的方法，该方法以元组形式返回字典键值对的可迭代视图。此方法允许您在循环内将每个键值对解包为两个单独的变量（key在您的情况下）。"
      ]
    },
    {
      "cell_type": "code",
      "execution_count": 69,
      "metadata": {},
      "outputs": [
        {
          "name": "stdout",
          "output_type": "stream",
          "text": [
            "name\n",
            "surname\n",
            "age\n"
          ]
        }
      ],
      "source": [
        "#for key, value in mydict2:\n",
        "    #print(key + ' ' + str(value))\n",
        "\n",
        "for i in mydict2:\n",
        "    print(i)\n"
      ]
    },
    {
      "cell_type": "code",
      "execution_count": 70,
      "metadata": {},
      "outputs": [
        {
          "name": "stdout",
          "output_type": "stream",
          "text": [
            "name\n",
            "surname\n",
            "age\n"
          ]
        }
      ],
      "source": [
        "for key in mydict2:\n",
        "    print(key)"
      ]
    },
    {
      "cell_type": "code",
      "execution_count": 71,
      "metadata": {},
      "outputs": [
        {
          "name": "stdout",
          "output_type": "stream",
          "text": [
            "360\n",
            "360\n",
            "360\n"
          ]
        }
      ],
      "source": [
        "for key in mydict2:\n",
        "    print(value)"
      ]
    },
    {
      "cell_type": "markdown",
      "metadata": {},
      "source": [
        "Otherwise we can just get the keys with `.keys()` or only the values with `.values()`.\n",
        "\n"
      ]
    },
    {
      "cell_type": "markdown",
      "metadata": {},
      "source": [
        "### Sets\n",
        "\n"
      ]
    },
    {
      "cell_type": "markdown",
      "metadata": {},
      "source": [
        "Sets are unordered collections of elements that are unique. Say we want to remove duplicates from a list, we can do:\n",
        "移除重复值"
      ]
    },
    {
      "cell_type": "code",
      "execution_count": 56,
      "metadata": {},
      "outputs": [
        {
          "name": "stdout",
          "output_type": "stream",
          "text": [
            "{1, 2, 3, 5}\n"
          ]
        }
      ],
      "source": [
        "l = [1, 2, 2, 3, 5]\n",
        "print(set(l))\n"
      ]
    },
    {
      "cell_type": "markdown",
      "metadata": {},
      "source": [
        "If you need more information on sets refer to [https://www.w3schools.com/python/python_sets.asp](https://www.w3schools.com/python/python_sets.asp).\n",
        "\n"
      ]
    },
    {
      "cell_type": "markdown",
      "metadata": {},
      "source": [
        "## Packages and modules\n",
        "\n"
      ]
    },
    {
      "cell_type": "markdown",
      "metadata": {},
      "source": [
        "Apart from being a powerful languages, one of the most attractive features of\n",
        "Python is the availability of a immense variety of &ldquo;packages&rdquo;, extensions that\n",
        "allow to achieve all kinds of functionality. A package is a collection of\n",
        "*modules* that are organized in a directory structure and can be imported into\n",
        "other programs to use their functionality. A module is a single file that\n",
        "contains definitions and statements, and can include functions, classes, and\n",
        "variables.\n",
        "\n",
        "As an example, you can create a file called `my_functions.py` and place it in\n",
        "the same directory as your main Python file or notebook. You can then `import`\n",
        "the module with `import my_functions` and use the functions contained in the\n",
        "`my_functions.py` file with the &ldquo;dot notation&rdquo;, for example `my_functions.add(3,\n",
        "2)`. Python also has a number of built-in modules. For example to access a\n",
        "number of mathematical operations one can use the `math` module:\n",
        "\n"
      ]
    },
    {
      "cell_type": "code",
      "execution_count": 57,
      "metadata": {},
      "outputs": [
        {
          "data": {
            "text/plain": [
              "1.4142135623730951"
            ]
          },
          "execution_count": 57,
          "metadata": {},
          "output_type": "execute_result"
        }
      ],
      "source": [
        "import math\n",
        "math.sqrt(2)\n"
      ]
    },
    {
      "cell_type": "markdown",
      "metadata": {},
      "source": [
        "Packages allow you to further structure code by grouping related modules\n",
        "together. For example, later on we will use the `matplotlib` package and import\n",
        "a specific submodule with\n",
        "\n",
        "\n",
        "该语句pyplot从matplotlib库中导入模块。matplotlib是一个广泛使用的库，用于在 Python 中创建静态、交互式和动画可视化。该pyplot模块提供了一个类似 MATLAB 的界面，用于制作绘图和图表。\n",
        "直接导入pyplot，就可以直接使用它的函数，不需要matplotlib.pyplot每次都加上前缀。例如，要创建绘图，您可以简单地使用pyplot.plot(...)代替matplotlib.pyplot.plot(...)。\n",
        "\n"
      ]
    },
    {
      "cell_type": "code",
      "execution_count": 61,
      "metadata": {},
      "outputs": [
        {
          "data": {
            "text/plain": [
              "<module 'matplotlib.pyplot' from '/Users/mac/miniconda3/envs/dmlap/lib/python3.9/site-packages/matplotlib/pyplot.py'>"
            ]
          },
          "execution_count": 61,
          "metadata": {},
          "output_type": "execute_result"
        }
      ],
      "source": [
        "from matplotlib import pyplot\n",
        "pyplot\n"
      ]
    },
    {
      "cell_type": "markdown",
      "metadata": {},
      "source": [
        "An alternative notation is the following:\n",
        "\n",
        "pyplot此语句还从库中导入模块matplotlib，但使用as关键字为其提供更短的别名：plt。这是一种常见的做法，目的是为了方便并使代码更简洁、更具可读性。\n",
        "使用此别名，您可以pyplot通过在函数前面添加前缀plt.而不是较长的 来访问函数matplotlib.pyplot.。例如，您可以使用它plt.plot(...)来创建绘图。\n",
        "使用pltfor 的别名matplotlib.pyplot是 Python 数据科学和可视化社区中广泛采用的约定。"
      ]
    },
    {
      "cell_type": "code",
      "execution_count": 62,
      "metadata": {},
      "outputs": [
        {
          "data": {
            "text/plain": [
              "<module 'matplotlib.pyplot' from '/Users/mac/miniconda3/envs/dmlap/lib/python3.9/site-packages/matplotlib/pyplot.py'>"
            ]
          },
          "execution_count": 62,
          "metadata": {},
          "output_type": "execute_result"
        }
      ],
      "source": [
        "import matplotlib.pyplot as plt\n",
        "plt\n"
      ]
    },
    {
      "cell_type": "markdown",
      "metadata": {},
      "source": [
        "and here we explicitly tell Python how we want to refer to the module. This is\n",
        "often used to abbreviate the name of the module in order to reduce typing.\n",
        "Another example of this syntax that we will use is:\n",
        "此语句导入numpy库并为其指定别名np。numpy是 Python 中科学计算的基本包，提供对大型多维数组和矩阵的支持，以及对这些数组进行操作的大量高级数学函数的集合。\n",
        "别名np通常用于缩短代码并提高可读性。例如，您可以使用np.array(...)创建 numpy 数组而不是更长的numpy.array(...).\n",
        "与pltfor一样matplotlib.pyplot，使用npfor 的别名numpy是标准约定。"
      ]
    },
    {
      "cell_type": "code",
      "execution_count": 63,
      "metadata": {},
      "outputs": [
        {
          "data": {
            "text/plain": [
              "<module 'numpy' from '/Users/mac/miniconda3/envs/dmlap/lib/python3.9/site-packages/numpy/__init__.py'>"
            ]
          },
          "execution_count": 63,
          "metadata": {},
          "output_type": "execute_result"
        }
      ],
      "source": [
        "import numpy as np\n",
        "np"
      ]
    },
    {
      "cell_type": "markdown",
      "metadata": {},
      "source": [
        "Here numpy as a package that immediately provides a set of functionalities\n",
        "without requiring to specify the specific submodule.\n",
        "\n"
      ]
    }
  ],
  "metadata": {
    "kernelspec": {
      "display_name": "Python 3",
      "language": "python",
      "name": "python3"
    },
    "language_info": {
      "codemirror_mode": {
        "name": "ipython",
        "version": 3
      },
      "file_extension": ".py",
      "mimetype": "text/x-python",
      "name": "python",
      "nbconvert_exporter": "python",
      "pygments_lexer": "ipython3",
      "version": "3.9.18"
    },
    "org": null,
    "vscode": {
      "interpreter": {
        "hash": "1c544d3133b9d8c6f36fca025551af31afa9ef134259e7064ad6be0c15e6401c"
      }
    }
  },
  "nbformat": 4,
  "nbformat_minor": 0
}
